{
 "cells": [
  {
   "cell_type": "markdown",
   "metadata": {},
   "source": [
    "Задание 1\n",
    "\n",
    "Скачайте с сайта https://grouplens.org/datasets/movielens/ датасет любого размера. \n",
    "Определите какому фильму было выставлено больше всего оценок 5.0."
   ]
  },
  {
   "cell_type": "code",
   "execution_count": 5,
   "metadata": {},
   "outputs": [],
   "source": [
    "import pandas as pd\n",
    "#Small: 100,000 ratings and 3,600 tag applications applied to 9,000 movies by 600 users. Last updated 9/2018."
   ]
  },
  {
   "cell_type": "code",
   "execution_count": 26,
   "metadata": {},
   "outputs": [
    {
     "data": {
      "text/html": [
       "<div>\n",
       "<style scoped>\n",
       "    .dataframe tbody tr th:only-of-type {\n",
       "        vertical-align: middle;\n",
       "    }\n",
       "\n",
       "    .dataframe tbody tr th {\n",
       "        vertical-align: top;\n",
       "    }\n",
       "\n",
       "    .dataframe thead th {\n",
       "        text-align: right;\n",
       "    }\n",
       "</style>\n",
       "<table border=\"1\" class=\"dataframe\">\n",
       "  <thead>\n",
       "    <tr style=\"text-align: right;\">\n",
       "      <th></th>\n",
       "      <th>movieId</th>\n",
       "      <th>title</th>\n",
       "      <th>genres</th>\n",
       "    </tr>\n",
       "  </thead>\n",
       "  <tbody>\n",
       "    <tr>\n",
       "      <th>0</th>\n",
       "      <td>1</td>\n",
       "      <td>Toy Story (1995)</td>\n",
       "      <td>Adventure|Animation|Children|Comedy|Fantasy</td>\n",
       "    </tr>\n",
       "    <tr>\n",
       "      <th>1</th>\n",
       "      <td>2</td>\n",
       "      <td>Jumanji (1995)</td>\n",
       "      <td>Adventure|Children|Fantasy</td>\n",
       "    </tr>\n",
       "    <tr>\n",
       "      <th>2</th>\n",
       "      <td>3</td>\n",
       "      <td>Grumpier Old Men (1995)</td>\n",
       "      <td>Comedy|Romance</td>\n",
       "    </tr>\n",
       "    <tr>\n",
       "      <th>3</th>\n",
       "      <td>4</td>\n",
       "      <td>Waiting to Exhale (1995)</td>\n",
       "      <td>Comedy|Drama|Romance</td>\n",
       "    </tr>\n",
       "    <tr>\n",
       "      <th>4</th>\n",
       "      <td>5</td>\n",
       "      <td>Father of the Bride Part II (1995)</td>\n",
       "      <td>Comedy</td>\n",
       "    </tr>\n",
       "  </tbody>\n",
       "</table>\n",
       "</div>"
      ],
      "text/plain": [
       "   movieId                               title  \\\n",
       "0        1                    Toy Story (1995)   \n",
       "1        2                      Jumanji (1995)   \n",
       "2        3             Grumpier Old Men (1995)   \n",
       "3        4            Waiting to Exhale (1995)   \n",
       "4        5  Father of the Bride Part II (1995)   \n",
       "\n",
       "                                        genres  \n",
       "0  Adventure|Animation|Children|Comedy|Fantasy  \n",
       "1                   Adventure|Children|Fantasy  \n",
       "2                               Comedy|Romance  \n",
       "3                         Comedy|Drama|Romance  \n",
       "4                                       Comedy  "
      ]
     },
     "execution_count": 26,
     "metadata": {},
     "output_type": "execute_result"
    }
   ],
   "source": [
    "movie = pd.read_csv('C:\\\\Users\\\\Мария\\\\Desktop\\\\movies.csv',  encoding='utf-8')\n",
    "ratings = pd.read_csv('C:\\\\Users\\\\Мария\\\\Desktop\\\\ratings.csv',  encoding='utf-8')\n",
    "movie.head()"
   ]
  },
  {
   "cell_type": "code",
   "execution_count": 22,
   "metadata": {},
   "outputs": [
    {
     "data": {
      "text/html": [
       "<div>\n",
       "<style scoped>\n",
       "    .dataframe tbody tr th:only-of-type {\n",
       "        vertical-align: middle;\n",
       "    }\n",
       "\n",
       "    .dataframe tbody tr th {\n",
       "        vertical-align: top;\n",
       "    }\n",
       "\n",
       "    .dataframe thead th {\n",
       "        text-align: right;\n",
       "    }\n",
       "</style>\n",
       "<table border=\"1\" class=\"dataframe\">\n",
       "  <thead>\n",
       "    <tr style=\"text-align: right;\">\n",
       "      <th></th>\n",
       "      <th>userId</th>\n",
       "      <th>movieId</th>\n",
       "      <th>rating</th>\n",
       "      <th>timestamp</th>\n",
       "    </tr>\n",
       "  </thead>\n",
       "  <tbody>\n",
       "    <tr>\n",
       "      <th>3</th>\n",
       "      <td>1</td>\n",
       "      <td>47</td>\n",
       "      <td>5.0</td>\n",
       "      <td>964983815</td>\n",
       "    </tr>\n",
       "    <tr>\n",
       "      <th>4</th>\n",
       "      <td>1</td>\n",
       "      <td>50</td>\n",
       "      <td>5.0</td>\n",
       "      <td>964982931</td>\n",
       "    </tr>\n",
       "    <tr>\n",
       "      <th>6</th>\n",
       "      <td>1</td>\n",
       "      <td>101</td>\n",
       "      <td>5.0</td>\n",
       "      <td>964980868</td>\n",
       "    </tr>\n",
       "    <tr>\n",
       "      <th>8</th>\n",
       "      <td>1</td>\n",
       "      <td>151</td>\n",
       "      <td>5.0</td>\n",
       "      <td>964984041</td>\n",
       "    </tr>\n",
       "    <tr>\n",
       "      <th>9</th>\n",
       "      <td>1</td>\n",
       "      <td>157</td>\n",
       "      <td>5.0</td>\n",
       "      <td>964984100</td>\n",
       "    </tr>\n",
       "  </tbody>\n",
       "</table>\n",
       "</div>"
      ],
      "text/plain": [
       "   userId  movieId  rating  timestamp\n",
       "3       1       47     5.0  964983815\n",
       "4       1       50     5.0  964982931\n",
       "6       1      101     5.0  964980868\n",
       "8       1      151     5.0  964984041\n",
       "9       1      157     5.0  964984100"
      ]
     },
     "execution_count": 22,
     "metadata": {},
     "output_type": "execute_result"
    }
   ],
   "source": [
    "rate = ratings[(ratings['rating']== 5.0)] #отфильтровываем только оценки фильмам 5.0\n",
    "rate.head() "
   ]
  },
  {
   "cell_type": "code",
   "execution_count": 24,
   "metadata": {},
   "outputs": [
    {
     "data": {
      "text/plain": [
       "318     153\n",
       "296     123\n",
       "356     116\n",
       "2571    109\n",
       "260     104\n",
       "593      92\n",
       "527      92\n",
       "858      88\n",
       "2959     81\n",
       "1196     80\n",
       "Name: movieId, dtype: int64"
      ]
     },
     "execution_count": 24,
     "metadata": {},
     "output_type": "execute_result"
    }
   ],
   "source": [
    "rate['movieId'].value_counts().head(10) #выводим топ 10 фильмов с максимальным значением оценок 5.0 наш фильм самый первый"
   ]
  },
  {
   "cell_type": "markdown",
   "metadata": {},
   "source": [
    "'movieId' == 318 наш фильм"
   ]
  },
  {
   "cell_type": "code",
   "execution_count": 32,
   "metadata": {},
   "outputs": [
    {
     "data": {
      "text/html": [
       "<div>\n",
       "<style scoped>\n",
       "    .dataframe tbody tr th:only-of-type {\n",
       "        vertical-align: middle;\n",
       "    }\n",
       "\n",
       "    .dataframe tbody tr th {\n",
       "        vertical-align: top;\n",
       "    }\n",
       "\n",
       "    .dataframe thead th {\n",
       "        text-align: right;\n",
       "    }\n",
       "</style>\n",
       "<table border=\"1\" class=\"dataframe\">\n",
       "  <thead>\n",
       "    <tr style=\"text-align: right;\">\n",
       "      <th></th>\n",
       "      <th>movieId</th>\n",
       "      <th>title</th>\n",
       "      <th>genres</th>\n",
       "    </tr>\n",
       "  </thead>\n",
       "  <tbody>\n",
       "    <tr>\n",
       "      <th>277</th>\n",
       "      <td>318</td>\n",
       "      <td>Shawshank Redemption, The (1994)</td>\n",
       "      <td>Crime|Drama</td>\n",
       "    </tr>\n",
       "  </tbody>\n",
       "</table>\n",
       "</div>"
      ],
      "text/plain": [
       "     movieId                             title       genres\n",
       "277      318  Shawshank Redemption, The (1994)  Crime|Drama"
      ]
     },
     "execution_count": 32,
     "metadata": {},
     "output_type": "execute_result"
    }
   ],
   "source": [
    "result = movie[(movie['movieId'] == 318)]\n",
    "result"
   ]
  },
  {
   "cell_type": "markdown",
   "metadata": {},
   "source": [
    "Задание 2\n",
    "\n",
    "По данным файла power.csv посчитайте суммарное потребление стран Прибалтики (Латвия, Литва и Эстония) категорий 4, 12 и 21 за период с 2005 по 2010 года. Не учитывайте в расчетах отрицательные значения quantity."
   ]
  },
  {
   "cell_type": "code",
   "execution_count": 100,
   "metadata": {},
   "outputs": [
    {
     "data": {
      "text/plain": [
       "array(['Lithuania'], dtype=object)"
      ]
     },
     "execution_count": 100,
     "metadata": {},
     "output_type": "execute_result"
    }
   ],
   "source": [
    "data = pd.read_csv('C:\\\\Users\\\\Мария\\\\Desktop\\\\power.csv')\n",
    "data[ data['country'].str.contains('lit', case=False) ]['country'].unique() #использовал для поиска стран из задания"
   ]
  },
  {
   "cell_type": "code",
   "execution_count": 111,
   "metadata": {},
   "outputs": [
    {
     "data": {
      "text/html": [
       "<div>\n",
       "<style scoped>\n",
       "    .dataframe tbody tr th:only-of-type {\n",
       "        vertical-align: middle;\n",
       "    }\n",
       "\n",
       "    .dataframe tbody tr th {\n",
       "        vertical-align: top;\n",
       "    }\n",
       "\n",
       "    .dataframe thead th {\n",
       "        text-align: right;\n",
       "    }\n",
       "</style>\n",
       "<table border=\"1\" class=\"dataframe\">\n",
       "  <thead>\n",
       "    <tr style=\"text-align: right;\">\n",
       "      <th></th>\n",
       "      <th>quantity</th>\n",
       "    </tr>\n",
       "    <tr>\n",
       "      <th>country</th>\n",
       "      <th></th>\n",
       "    </tr>\n",
       "  </thead>\n",
       "  <tbody>\n",
       "    <tr>\n",
       "      <th>Estonia</th>\n",
       "      <td>266014.0</td>\n",
       "    </tr>\n",
       "    <tr>\n",
       "      <th>Latvia</th>\n",
       "      <td>208780.0</td>\n",
       "    </tr>\n",
       "    <tr>\n",
       "      <th>Lithuania</th>\n",
       "      <td>495934.0</td>\n",
       "    </tr>\n",
       "  </tbody>\n",
       "</table>\n",
       "</div>"
      ],
      "text/plain": [
       "           quantity\n",
       "country            \n",
       "Estonia    266014.0\n",
       "Latvia     208780.0\n",
       "Lithuania  495934.0"
      ]
     },
     "execution_count": 111,
     "metadata": {},
     "output_type": "execute_result"
    }
   ],
   "source": [
    "fbc = data[(data['country']=='Lithuania') | (data['country']=='Estonia') | (data['country']=='Latvia')] #filtered by country\n",
    "fbcat = fbc[(fbc['category']== 4) | (fbc['category']== 12) | (fbc['category']== 21)] #category\n",
    "fbq = fbcat[(fbcat['quantity'] >= 0)] #filtered by quantity positive\n",
    "fby = fbq[(fbq['year'] >= 2005) | (fbq['year'] <= 2010)]   #filtered by year                \n",
    "\n",
    "sum_quantity[['country', 'quantity']].sum()\n"
   ]
  },
  {
   "cell_type": "markdown",
   "metadata": {},
   "source": [
    "Задание 3\n",
    "\n",
    "Выберите страницу любого сайта с табличными данными. Импортируйте таблицы в pandas dataframe.\n",
    "Примеры страниц (необязательно брать именно эти):\n",
    "\n",
    "https://fortrader.org/quotes \\\n",
    "https://www.finanz.ru/valyuty/v-realnom-vremeni"
   ]
  },
  {
   "cell_type": "code",
   "execution_count": 50,
   "metadata": {},
   "outputs": [
    {
     "data": {
      "text/plain": [
       "[    Unnamed: 0              Рубль  Предложение  Спрос  Предыдущее закрытие  \\\n",
       " 0          NaN            GBP/RUB      1038714      -              1038473   \n",
       " 1          NaN            EUR/RUB       897845      -               909405   \n",
       " 2          NaN            USD/RUB       745745      -               746090   \n",
       " 3          NaN            JPY/RUB        06997      -                06999   \n",
       " 4          NaN            CNY/RUB       115112      -               115180   \n",
       " 5          NaN            CHF/RUB       820561      -               820840   \n",
       " 6          NaN               Евро  Предложение  Спрос  Предыдущее закрытие   \n",
       " 7          NaN            EUR/USD        12074      -                12184   \n",
       " 8          NaN            EUR/GBP        08678      -                08695   \n",
       " 9          NaN            EUR/JPY      1286550      -              1286350   \n",
       " 10         NaN            EUR/CHF        10973      -                11019   \n",
       " 11         NaN         Доллар США  Предложение  Спрос  Предыдущее закрытие   \n",
       " 12         NaN            USD/EUR        08283      -                08283   \n",
       " 13         NaN            USD/GBP        07180      -                07182   \n",
       " 14         NaN            USD/JPY      1065850      -              1062400   \n",
       " 15         NaN            USD/CHF        09088      -                09085   \n",
       " 16         NaN      Японская иена  Предложение  Спрос  Предыдущее закрытие   \n",
       " 17         NaN    JPY/EUR (100:1)        07800      -                07800   \n",
       " 18         NaN            JPY/GBP        00067      -                00067   \n",
       " 19         NaN            JPY/USD        00094      -                00094   \n",
       " 20         NaN    JPY/CHF (100:1)        08500      -                08500   \n",
       " 21         NaN    Фунт стерлингов  Предложение  Спрос  Предыдущее закрытие   \n",
       " 22         NaN            GBP/USD        13929      -                14013   \n",
       " 23         NaN            GBP/JPY      1484569      -              1483741   \n",
       " 24         NaN            GBP/EUR        11532      -                11505   \n",
       " 25         NaN            GBP/CHF        12630      -                12675   \n",
       " 26         NaN  Швейцарский франк  Предложение  Спрос  Предыдущее закрытие   \n",
       " 27         NaN            GBP/CHF        12630      -                12675   \n",
       " 28         NaN            EUR/CHF        10973      -                11019   \n",
       " 29         NaN    JPY/CHF (100:1)        08500      -                08500   \n",
       " 30         NaN            USD/CHF        09088      -                09085   \n",
       " 31         NaN  Украинская гривна  Предложение  Спрос  Предыдущее закрытие   \n",
       " 32         NaN            EUR/UAH       338662      -               337696   \n",
       " 33         NaN            USD/UAH       280500      -               279700   \n",
       " 34         NaN            CHF/UAH       308641      -               307836   \n",
       " 35         NaN            GBP/UAH       390696      -               389454   \n",
       " \n",
       "           %  Абсолютное значение     Время  \n",
       " 0    0,02 %                00241  07:05:00  \n",
       " 1   -1,27 %               -11560  01:42:00  \n",
       " 2   -0,05 %               -00345  01:00:00  \n",
       " 3   -0,03 %               -00002  07:05:00  \n",
       " 4   -0,06 %               -00068  07:05:00  \n",
       " 5   -0,03 %               -00279  07:05:00  \n",
       " 6         %  Абсолютное значение     Время  \n",
       " 7   -0,90 %               -00110  01:02:00  \n",
       " 8   -0,19 %               -00017  01:03:00  \n",
       " 9    0,02 %                00200  06:47:00  \n",
       " 10  -0,42 %               -00046  01:03:00  \n",
       " 11        %  Абсолютное значение     Время  \n",
       " 12   0,00 %                00000  07:05:00  \n",
       " 13  -0,03 %               -00002  07:05:00  \n",
       " 14   0,32 %                03450  01:09:00  \n",
       " 15   0,04 %                00003  06:47:00  \n",
       " 16        %  Абсолютное значение     Время  \n",
       " 17  -0,02 %                00000  07:05:00  \n",
       " 18  -0,06 %                00000  07:05:00  \n",
       " 19  -0,02 %                00000  07:05:00  \n",
       " 20  -0,19 %                00000  01:00:00  \n",
       " 21        %  Абсолютное значение     Время  \n",
       " 22  -0,60 %               -00084  01:03:00  \n",
       " 23   0,06 %                00828  07:05:00  \n",
       " 24   0,23 %                00027  01:00:00  \n",
       " 25  -0,36 %               -00045  01:00:00  \n",
       " 26        %  Абсолютное значение     Время  \n",
       " 27  -0,36 %               -00045  01:00:00  \n",
       " 28  -0,42 %               -00046  01:03:00  \n",
       " 29  -0,19 %                00000  01:00:00  \n",
       " 30   0,04 %                00003  06:47:00  \n",
       " 31        %  Абсолютное значение     Время  \n",
       " 32   0,29 %                00967  07:05:00  \n",
       " 33   0,29 %                00800  07:05:00  \n",
       " 34   0,26 %                00805  07:05:00  \n",
       " 35   0,32 %                01242  07:05:00  ]"
      ]
     },
     "execution_count": 50,
     "metadata": {},
     "output_type": "execute_result"
    }
   ],
   "source": [
    "page_url = 'https://www.finanz.ru/valyuty/v-realnom-vremeni'\n",
    "table = pd.read_html(page_url, attrs = {'class': 'quote_list'}, encoding='utf-8')\n",
    "table[:10]"
   ]
  }
 ],
 "metadata": {
  "kernelspec": {
   "display_name": "Python 3",
   "language": "python",
   "name": "python3"
  },
  "language_info": {
   "codemirror_mode": {
    "name": "ipython",
    "version": 3
   },
   "file_extension": ".py",
   "mimetype": "text/x-python",
   "name": "python",
   "nbconvert_exporter": "python",
   "pygments_lexer": "ipython3",
   "version": "3.8.3"
  }
 },
 "nbformat": 4,
 "nbformat_minor": 4
}
