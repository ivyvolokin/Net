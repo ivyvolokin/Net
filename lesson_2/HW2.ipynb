{
 "cells": [
  {
   "cell_type": "code",
   "execution_count": 11,
   "metadata": {},
   "outputs": [
    {
     "name": "stdout",
     "output_type": "stream",
     "text": [
      "tesre\n",
      "s\n"
     ]
    }
   ],
   "source": [
    "#Задание 1\n",
    "name = input()\n",
    "\n",
    "if len(name) % 2 == 0:\n",
    "    \n",
    "    print(name[len(name) // 2 - 1 : len(name) // 2 + 1 ])\n",
    "else:\n",
    "    \n",
    "    print(name[len(name) // 2])"
   ]
  },
  {
   "cell_type": "code",
   "execution_count": 14,
   "metadata": {},
   "outputs": [
    {
     "name": "stdout",
     "output_type": "stream",
     "text": [
      "0\n"
     ]
    }
   ],
   "source": [
    "#Задание 2\n",
    "x = int(input('Введите число '))\n",
    "sum = 0\n",
    "while x != 0:\n",
    "    sum = sum + x \n",
    "    x = int(input('Введите число '))\n",
    "print(sum)\n"
   ]
  },
  {
   "cell_type": "code",
   "execution_count": 14,
   "metadata": {},
   "outputs": [
    {
     "name": "stdout",
     "output_type": "stream",
     "text": [
      "Лучшие пары:\n",
      "Alex и Emma\n",
      "Arthur и Kira\n",
      "John и Liza\n"
     ]
    }
   ],
   "source": [
    "#Задание 3\n",
    "\n",
    "boys = ['Alex', 'John', 'Arthur']\n",
    "girls = ['Kira', 'Liza', 'Emma']\n",
    "\n",
    "if len(boys) != len(girls):\n",
    "    print('Внимание, кто-то может остаться без пары!')\n",
    "        \n",
    "if len(boys) == len(girls):\n",
    "    boy = sorted(boys) \n",
    "    girl = sorted(girls)\n",
    "    print('Лучшие пары:')\n",
    "    for i in range(len(boy)):\n",
    "            print(boy[i], 'и', girl[i])\n",
    "\n",
    " \n"
   ]
  },
  {
   "cell_type": "code",
   "execution_count": null,
   "metadata": {},
   "outputs": [],
   "source": [
    "boys = [input().split()]\n",
    "girls = [input().split()]\n",
    "new = zip(sorted(boys), sorted(girls))\n",
    "list(new)"
   ]
  },
  {
   "cell_type": "code",
   "execution_count": 3,
   "metadata": {},
   "outputs": [
    {
     "name": "stdout",
     "output_type": "stream",
     "text": [
      "Средняя температура в странах :\n",
      "Thailand - 23.9 C\n",
      "Средняя температура в странах :\n",
      "Germany - 13.8 C\n",
      "Средняя температура в странах :\n",
      "Russia - 3.7 C\n",
      "Средняя температура в странах :\n",
      "Poland - 12.0 C\n"
     ]
    }
   ],
   "source": [
    "#Задание 4\n",
    "\n",
    "countries_temperature = [\n",
    "    ['Thailand', [75.2, 77, 78.8, 73.4, 68, 75.2, 77]],\n",
    "    ['Germany', [57.2, 55.4, 59, 59, 53.6]],\n",
    "    ['Russia', [35.6, 37.4, 39.2, 41, 42.8, 39.2, 35.6]],\n",
    "    ['Poland', [50, 50, 53.6, 57.2, 55.4, 55.4]]\n",
    "]\n",
    "\n",
    "for country_info in countries_temperature:\n",
    "    print('Средняя температура в странах :')\n",
    "    print(country_info[0] + ' - ' + str(round((((sum(country_info[1])/len(country_info[1]))-32)*5/9), 1)) +' C')\n"
   ]
  },
  {
   "cell_type": "code",
   "execution_count": null,
   "metadata": {},
   "outputs": [],
   "source": []
  }
 ],
 "metadata": {
  "kernelspec": {
   "display_name": "Python 3",
   "language": "python",
   "name": "python3"
  },
  "language_info": {
   "codemirror_mode": {
    "name": "ipython",
    "version": 3
   },
   "file_extension": ".py",
   "mimetype": "text/x-python",
   "name": "python",
   "nbconvert_exporter": "python",
   "pygments_lexer": "ipython3",
   "version": "3.8.3"
  }
 },
 "nbformat": 4,
 "nbformat_minor": 4
}
