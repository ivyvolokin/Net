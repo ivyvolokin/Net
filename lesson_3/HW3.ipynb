{
 "cells": [
  {
   "cell_type": "code",
   "execution_count": 4,
   "metadata": {},
   "outputs": [
    {
     "name": "stdout",
     "output_type": "stream",
     "text": [
      "[[213], [15], [54], [119], [98], [35]]\n"
     ]
    }
   ],
   "source": [
    "#Задание 1\n",
    "id = {\n",
    "'user1': [213, 213, 213, 15, 213],\n",
    "'user2': [54, 54, 119, 119, 119],\n",
    "'user3': [213, 98, 98, 35]\n",
    "}\n",
    "new = []\n",
    "for  map in id.values():\n",
    "    for i in range(len(map)):\n",
    "        key = [map[i]]\n",
    "        new.append(key)\n",
    "final = []        \n",
    "for x in new:\n",
    "    if x not in final:\n",
    "        final.append(x)\n",
    "print(final)\n",
    "               \n",
    "        \n",
    "    "
   ]
  },
  {
   "cell_type": "code",
   "execution_count": 27,
   "metadata": {},
   "outputs": [
    {
     "name": "stdout",
     "output_type": "stream",
     "text": [
      "Поисковых запросов, содержащих 2 слов(а): 42.86 %\n",
      "Поисковых запросов, содержащих 3 слов(а): 57.14 %\n"
     ]
    }
   ],
   "source": [
    "# Задание 2\n",
    "# Дана переменная, в которой хранится список поисковых запросов пользователя \n",
    "# (пример структуры данных приведен ниже). Вам необходимо написать программу, которая выведет \n",
    "# на экран распределение количества слов в запросах в требуемом виде.\n",
    "# Пример работы программы:\n",
    "t2 = 0\n",
    "t3 = 0\n",
    "total = 0\n",
    "que = [\n",
    "'смотреть сериалы онлайн',\n",
    " 'новости спорта',\n",
    " 'афиша кино',\n",
    " 'курс доллара',\n",
    " 'сериалы этим летом',\n",
    " 'курс по питону',\n",
    " 'сериалы про спорт'\n",
    " ]\n",
    "for i in range(len(que)):\n",
    "    for j in que[i]:\n",
    "        if j == ' ':\n",
    "            total += 1\n",
    "    if total == 1:\n",
    "        t2 += 1\n",
    "        total = 0\n",
    "    if total == 2:\n",
    "        t3 += 1\n",
    "        total = 0\n",
    "    \n",
    "print('Поисковых запросов, содержащих 2 слов(а):', round(t2 * 100 / len(que), 2), '%' )        \n",
    "print('Поисковых запросов, содержащих 3 слов(а):', round(t3 * 100 / len(que), 2), '%')  \n"
   ]
  },
  {
   "cell_type": "code",
   "execution_count": 172,
   "metadata": {},
   "outputs": [
    {
     "name": "stdout",
     "output_type": "stream",
     "text": [
      "{'vk': {'revenue': 103, 'cost': 98, 'ROI': 5.1}, 'yandex': {'revenue': 179, 'cost': 153, 'ROI': 16.99}, 'facebook': {'revenue': 103, 'cost': 110, 'ROI': -6.36}, 'adwords': {'revenue': 35, 'cost': 34, 'ROI': 2.94}, 'twitter': {'revenue': 11, 'cost': 24, 'ROI': -54.17}}\n"
     ]
    }
   ],
   "source": [
    "# Задание 3\n",
    "# Дана переменная, в которой хранится информация о затратах и доходе рекламных кампаний по различным источникам. \n",
    "# Необходимо дополнить исходную структуру показателем ROI, который рассчитаем по формуле: (revenue / cost - 1) * 100\n",
    "\n",
    "# Пример работы программы:\n",
    "new = {}\n",
    "res = {\n",
    "'vk': {'revenue': 103, 'cost': 98},\n",
    "'yandex': {'revenue': 179, 'cost': 153},\n",
    "'facebook': {'revenue': 103, 'cost': 110},\n",
    "'adwords': {'revenue': 35, 'cost': 34},\n",
    "'twitter': {'revenue': 11, 'cost': 24},\n",
    "}\n",
    "\n",
    "for key, value in res.items():\n",
    "        value['ROI'] = round((value['revenue'] / value['cost'] - 1) * 100, 2)\n",
    "print(res)\n",
    " \n",
    "\n",
    "\n",
    "# Результат:\n",
    "# {‘adwords’: {‘ROI’: 2.94, ‘cost’: 34, ‘revenue’: 35},\n",
    "# ‘facebook’: {‘ROI’: -6.36, ‘cost’: 110, ‘revenue’: 103},\n",
    "# ‘twitter’: {‘ROI’: -54.17, ‘cost’: 24, ‘revenue’: 11},\n",
    "# ‘vk’: {‘ROI’: 5.1, ‘cost’: 98, ‘revenue’: 103},\n",
    "# ‘yandex’: {‘ROI’: 16.99, ‘cost’: 153, ‘revenue’: 179}}"
   ]
  },
  {
   "cell_type": "code",
   "execution_count": 119,
   "metadata": {},
   "outputs": [
    {
     "name": "stdout",
     "output_type": "stream",
     "text": [
      "Максимальный объем продаж на рекламном канале ['vk']\n"
     ]
    }
   ],
   "source": [
    "# Задание 4\n",
    "# Дана переменная, в которой хранится статистика рекламных каналов по объемам продаж \n",
    "# (пример структуры данных приведен ниже). Напишите программу, которая \n",
    "# возвращает название канала с максимальным объемом продаж.\n",
    "\n",
    "# Пример работы программы:\n",
    "my_set = set()\n",
    "stats = {'facebook': 55, 'yandex': 115, 'vk': 120, 'google': 99, 'email': 42, 'ok': 98}\n",
    "\n",
    "for _ in stats.values():\n",
    "    my_set.add(_)\n",
    "a = []\n",
    "for key, value in stats.items():\n",
    "    if value is t:\n",
    "        a.append(key)\n",
    "        \n",
    "print('Максимальный объем продаж на рекламном канале', a)\n",
    "\n",
    "# Результат: Максимальный объем продаж на рекламном канале: vk"
   ]
  },
  {
   "cell_type": "code",
   "execution_count": null,
   "metadata": {},
   "outputs": [],
   "source": [
    "# Задание 5 (необязательно)\n",
    "# Дан список произвольной длины. Необходимо написать код, который на основе \n",
    "# исходного списка составит словарь такого уровня вложенности, какова длина исхондого списка.\n",
    "\n",
    "# Примеры работы программы:\n",
    "\n",
    "# my_list = [‘2018-01-01’, ‘yandex’, ‘cpc’, 100]\n",
    "# Результат: {‘2018-01-01’: {‘yandex’: {‘cpc’: 100}}}\n",
    "\n",
    "# my_list = [‘a’, ‘b’, ‘c’, ‘d’, ‘e’, ‘f’]\n",
    "# Результат: {‘a’: {‘b’: {‘c’: {‘d’: {‘e’: ‘f’}}}}}"
   ]
  }
 ],
 "metadata": {
  "kernelspec": {
   "display_name": "Python 3",
   "language": "python",
   "name": "python3"
  },
  "language_info": {
   "codemirror_mode": {
    "name": "ipython",
    "version": 3
   },
   "file_extension": ".py",
   "mimetype": "text/x-python",
   "name": "python",
   "nbconvert_exporter": "python",
   "pygments_lexer": "ipython3",
   "version": "3.8.3"
  }
 },
 "nbformat": 4,
 "nbformat_minor": 4
}
