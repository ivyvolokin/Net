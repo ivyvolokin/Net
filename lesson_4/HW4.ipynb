{
 "cells": [
  {
   "cell_type": "code",
   "execution_count": 10,
   "metadata": {},
   "outputs": [],
   "source": [
    "\n",
    "\n",
    "documents = [\n",
    "{'type': 'passport', 'number': '2207 876234', 'name': 'Василий Гупкин'},\n",
    "{'type': 'invoice', 'number': '11-2', 'name': 'Геннадий Покемонов'},\n",
    "{'type': 'insurance', 'number': '10006', 'name': 'Аристарх Павлов'}\n",
    "]\n",
    "\n",
    "directories = {\n",
    "'1': ['2207 876234', '11-2'],\n",
    "'2': ['10006'],\n",
    "'3': []\n",
    "}\n"
   ]
  },
  {
   "cell_type": "code",
   "execution_count": 11,
   "metadata": {},
   "outputs": [],
   "source": [
    "# Пункт 1. Пользователь по команде “p” может узнать владельца документа по его номеру\n",
    "def doc_name(number):\n",
    "    \"\"\"\n",
    "    Поиск владельца по номеру документа\n",
    "    \"\"\"\n",
    "    for document in documents:\n",
    "        if document['number'] == number:\n",
    "            return document['name']\n",
    "\n",
    "def doc_number(number):\n",
    "    \n",
    "    \"\"\"\n",
    "    Поиск документа\n",
    "    \"\"\"\n",
    "    for document in documents:\n",
    "        if documents['number'] == number:\n",
    "            return document['number']\n",
    "        \n",
    "def search_document():\n",
    "    user_input = input('Введите номер документа')\n",
    "    if user_input == doc_number(user_input):\n",
    "        print('Владелец документа ', doc_name(user_input))\n",
    "    else:\n",
    "        print('Документ не найден в базе')    "
   ]
  },
  {
   "cell_type": "code",
   "execution_count": null,
   "metadata": {},
   "outputs": [],
   "source": [
    "# Пункт 2. Пользователь по команде “s” может по номеру документа узнать на какой полке он хранится\n",
    "\n",
    "def doc_directory(number):\n",
    "    \"\"\"\n",
    "    Находим непустую полку по номеру документа\n",
    "    \"\"\"\n",
    "    for key, value in directories.items():\n",
    "        if number in value:\n",
    "            return key\n",
    "        \n",
    "def search_directory():\n",
    "    \"\"\"\n",
    "    Оберточная функция вывода результатов по поиску полки по номеру документа\n",
    "    \"\"\"\n",
    "    user_input = input('Введите номер документа')\n",
    "    if user_input == doc_directory(user_input):\n",
    "        print('Документ хранится на полке: ', doc_directory(user_input) )\n",
    "    else:\n",
    "        print('Документ не найден в базе')    "
   ]
  },
  {
   "cell_type": "code",
   "execution_count": null,
   "metadata": {},
   "outputs": [],
   "source": [
    "# Пункт 3. Пользователь по команде “l” может увидеть полную информацию по всем документам\n",
    "\n",
    "\n",
    "def get_information(number):\n",
    "    \"\"\"\n",
    "   Поиск типа документа по его номеру\n",
    "    \"\"\"\n",
    "    for document in documents:\n",
    "        if document['number'] == number:\n",
    "            return document['type']\n",
    "\n",
    "def search_doc_info():\n",
    "    \n",
    "    user_input = input('Введите номер документа:')\n",
    "    \n",
    "    if user_input == information(user_input):\n",
    "        print(f'N: {information(user_input)}, тип: {type(user_input)},\n",
    "              владелец: {name(user_input)}, полка хранения: {directory(user_input)}')\n",
    "    \n",
    "\n",
    "    else:\n",
    "        print('Документ не найден в базе')"
   ]
  },
  {
   "cell_type": "code",
   "execution_count": null,
   "metadata": {},
   "outputs": [],
   "source": [
    "# Пункт 4. Пользователь по команде “as” может добавить новую полку\n",
    "\n",
    "def find_directory(number):\n",
    "    \"\"\"\n",
    "    Находим есть ли такая полка \n",
    "    \"\"\"\n",
    "    for key in list(directories.keys()):\n",
    "        if number in key:\n",
    "            return key\n",
    "\n",
    "def add_directory():\n",
    "    \"\"\"\n",
    "    Fункция добавляет полку и выводит результат по текущему перечню полок \n",
    "    \"\"\"\n",
    "    user_input = input('Введите номер полки:')\n",
    "    \n",
    "    if user_input == find_directory(user_input):\n",
    "        print(f\"Такая полка уже существует. Текущий перечень полок:  {','.join([key for key in directories.keys()])}\")\n",
    "    else:\n",
    "        directories[user_input] = []\n",
    "        print(f\"Полка добавлена. Текущий перечень полок:  {','.join([key for key in directories.keys()])}\")"
   ]
  },
  {
   "cell_type": "code",
   "execution_count": 27,
   "metadata": {},
   "outputs": [
    {
     "ename": "SyntaxError",
     "evalue": "EOL while scanning string literal (<ipython-input-27-ddbc4216efd9>, line 17)",
     "output_type": "error",
     "traceback": [
      "\u001b[1;36m  File \u001b[1;32m\"<ipython-input-27-ddbc4216efd9>\"\u001b[1;36m, line \u001b[1;32m17\u001b[0m\n\u001b[1;33m    print(f\"На полке есть документы, удалите их перед удалением полки. Текущий перечень полок:\u001b[0m\n\u001b[1;37m                                                                                              ^\u001b[0m\n\u001b[1;31mSyntaxError\u001b[0m\u001b[1;31m:\u001b[0m EOL while scanning string literal\n"
     ]
    }
   ],
   "source": [
    "# Пункт 5. Пользователь по команде “ds” может удалить существующую полку из данных (только если она пустая)\n",
    "\n",
    "def del_directory(number):\n",
    "    \"\"\"\n",
    "    Fункция удаления полки и вывода результатов по текущему перечню полок\n",
    "    \"\"\"\n",
    "    \n",
    "    user_input('Введите номер полки')\n",
    "    if user_input !=  find_directory(user_input): \n",
    "        print(f\"Такой полки не существует. Текущий перечень полок:  {','.join([key for key in directories.keys()])}\")\n",
    "    if directories.get(user_input, None) == []:\n",
    "                                # dict.get(key[, default]) - возвращает значение ключа, но если его нет, \n",
    "                                # не бросает исключение, а возвращает default (по умолчанию None).\n",
    "        del(directories[user_input])\n",
    "        print(f\"Полка удалена. Текущий перечень полок:  {','.join([key for key in directories.keys()])}\")\n",
    "    else:\n",
    "        print(f\"На полке есть документы, удалите их перед удалением полки. Текущий перечень полок: {','.join([key for key in directories.keys()])}\")\n",
    "        \n",
    "        #"
   ]
  },
  {
   "cell_type": "code",
   "execution_count": null,
   "metadata": {},
   "outputs": [],
   "source": [
    "def main():\n",
    "    \"\"\"\n",
    "    переходим к поиску или действию согласно:\n",
    "     - p\" может узнать владельца документа по его номеру\n",
    "     - \"s\" может по номеру документа узнать на какой полке он хранится\n",
    "     - \"l\" может увидеть полную информацию по всем документам\n",
    "     - \"ads\" может добавить новую полку\n",
    "     - \"ds\" может удалить существующую полку из данных (только если она пустая)\n",
    "    \"\"\"\n",
    "while True:\n",
    "    user_input_ = input('Введите команду')\n",
    "    if user_input_ == 'p':\n",
    "        search_document()\n",
    "    \n",
    "    elif user_input_ == 's':\n",
    "        search_directory()\n",
    "    \n",
    "    elif user_input_ == 'l':\n",
    "        search_doc_info()\n",
    "    \n",
    "    elif user_input_ == 'as':\n",
    "        add_directory()\n",
    "    \n",
    "    elif user_input_ == 'ds':\n",
    "        del_directory() \n",
    "    \n",
    "    else:\n",
    "        print('Ошибка!')"
   ]
  },
  {
   "cell_type": "code",
   "execution_count": null,
   "metadata": {},
   "outputs": [],
   "source": []
  }
 ],
 "metadata": {
  "kernelspec": {
   "display_name": "Python 3",
   "language": "python",
   "name": "python3"
  },
  "language_info": {
   "codemirror_mode": {
    "name": "ipython",
    "version": 3
   },
   "file_extension": ".py",
   "mimetype": "text/x-python",
   "name": "python",
   "nbconvert_exporter": "python",
   "pygments_lexer": "ipython3",
   "version": "3.8.3"
  }
 },
 "nbformat": 4,
 "nbformat_minor": 4
}
