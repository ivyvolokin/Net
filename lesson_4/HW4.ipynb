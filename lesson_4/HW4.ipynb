{
 "cells": [
  {
   "cell_type": "code",
   "execution_count": 1,
   "metadata": {},
   "outputs": [
    {
     "name": "stdout",
     "output_type": "stream",
     "text": [
      "2207 876234\n",
      "['10006']\n"
     ]
    },
    {
     "data": {
      "text/plain": [
       "list"
      ]
     },
     "execution_count": 1,
     "metadata": {},
     "output_type": "execute_result"
    }
   ],
   "source": [
    "documents = [\n",
    "{'type': 'passport', 'number': '2207 876234', 'name': 'Василий Гупкин'},\n",
    "{'type': 'invoice', 'number': '11-2', 'name': 'Геннадий Покемонов'},\n",
    "{'type': 'insurance', 'number': '10006', 'name': 'Аристарх Павлов'}\n",
    "]\n",
    "\n",
    "directories = {\n",
    "'1': ['2207 876234', '11-2'],\n",
    "'2': ['10006'],\n",
    "'3': []\n",
    "}\n",
    "\n",
    "print(documents[0]['number'])\n",
    "print(directories['2'])\n",
    "type(documents)"
   ]
  },
  {
   "cell_type": "code",
   "execution_count": 2,
   "metadata": {},
   "outputs": [],
   "source": [
    "# Пункт 1\n",
    "def get_doc_name(number):\n",
    "    \"\"\"\n",
    "    Ищем владельца по номеру документа\n",
    "    \"\"\"\n",
    "    for document in documents:\n",
    "        if document['number'] == number:\n",
    "            return document['name']\n",
    "\n",
    "def get_doc_number(number):\n",
    "    \"\"\"\n",
    "    Ищем  документ\n",
    "    \"\"\"\n",
    "    for document in documents:\n",
    "        if document['number'] == number:\n",
    "            return document['number']\n",
    "            \n",
    "def find_document():\n",
    "    \"\"\"\n",
    "    Fункция вывода результатов по поиску владельца по номеру документа\n",
    "    \"\"\"\n",
    "    user_input = input('Введите номер документа:')\n",
    "    if user_input == get_doc_number(user_input):\n",
    "        print('Владелец документа: ',get_doc_name(user_input))\n",
    "    else:\n",
    "        print('Документ не найден в базе')  "
   ]
  },
  {
   "cell_type": "code",
   "execution_count": 3,
   "metadata": {},
   "outputs": [],
   "source": [
    "#Пункт 2\n",
    "\n",
    "def get_doc_directory(number):\n",
    "    \"\"\"\n",
    "    Находим непустую полку по номеру документа\n",
    "    \"\"\"\n",
    "    for key, value in directories.items():\n",
    "        if number in value:\n",
    "            return key\n",
    "            \n",
    "def find_directory():\n",
    "    \"\"\"\n",
    "    Функция вывода результатов по поиску полки по номеру документа\n",
    "    \"\"\"\n",
    "    user_input = input('Введите номер документа:')\n",
    "    if user_input == get_doc_number(user_input):\n",
    "        print('Документ хранится на полке: ',get_doc_directory(user_input))\n",
    "    else:\n",
    "        print('Документ не найден в базе')"
   ]
  },
  {
   "cell_type": "code",
   "execution_count": 4,
   "metadata": {},
   "outputs": [],
   "source": [
    "# Пункт 3\n",
    "def get_doc_type(number):\n",
    "    \"\"\"\n",
    "    Находим тип документа по его номеру\n",
    "    \"\"\"\n",
    "    for document in documents:\n",
    "        if document['number'] == number:\n",
    "            return document['type']\n",
    "\n",
    "def find_doc_info():\n",
    "    \"\"\"\n",
    "    Fнкция вывода результатов по поиску всей информации о документе по его номеру \n",
    "    \"\"\"\n",
    "    user_input = input('Введите номер документа:')\n",
    "    if user_input == get_doc_number(user_input):\n",
    "        print(f'N: {get_doc_number(user_input)}, тип: {get_doc_type(user_input)}, владелец: {get_doc_name(user_input)}, полка хранения: {get_doc_directory(user_input)}')\n",
    "    else:\n",
    "        print('Документ не найден в базе')"
   ]
  },
  {
   "cell_type": "code",
   "execution_count": 5,
   "metadata": {},
   "outputs": [],
   "source": [
    "# Пункт 4\n",
    "def get_exist_directory(number):\n",
    "    \"\"\"\n",
    "    Находим есть ли такая полка \n",
    "    \"\"\"\n",
    "    for key in list(directories.keys()):\n",
    "        if number in key:\n",
    "            return key\n",
    "\n",
    "def add_directory():\n",
    "    \"\"\"\n",
    "    Функция добавления полки и вывода результатов по текущему перечню полок \n",
    "    \"\"\"\n",
    "    user_input = input('Введите номер полки:')\n",
    "    if user_input == get_exist_directory(user_input):\n",
    "        print(f\"Такая полка уже существует. Текущий перечень полок:  {','.join([key for key in directories.keys()])}\")\n",
    "    else:\n",
    "        directories[user_input] = []\n",
    "        print(f\"Полка добавлена. Текущий перечень полок:  {','.join([key for key in directories.keys()])}\")"
   ]
  },
  {
   "cell_type": "code",
   "execution_count": 6,
   "metadata": {},
   "outputs": [],
   "source": [
    "# Пункт 5. Пользователь по команде \"ds\" может удалить существующую полку из данных\n",
    "\n",
    "def delete_directory():\n",
    "    \"\"\"\n",
    "     Удаляем полку и выводим результаты по текущему перечню полок\n",
    "    \"\"\"\n",
    "    user_input = input('Введите номер полки:')\n",
    "    if user_input != get_exist_directory(user_input):\n",
    "        print(f\"Такой полки не существует. Текущий перечень полок:  {','.join([key for key in directories.keys()])}\")\n",
    "    elif directories.get(user_input, None) == []:\n",
    "        del(directories[user_input])\n",
    "        print(f\"Полка удалена. Текущий перечень полок:  {','.join([key for key in directories.keys()])}\")\n",
    "    else:\n",
    "       #как разбить строку print(.......) на несколько? стоит мне не закрыть скобку и перенести строчку кода\n",
    "       #выдает ошибку (SyntaxError: EOL while scanning string literal)\n",
    "        print(f\"На полке есть документы, удалите их перед удалением полки. Текущий перечень полок: {','.join([key for key in directories.keys()])}\")"
   ]
  },
  {
   "cell_type": "code",
   "execution_count": null,
   "metadata": {
    "scrolled": true
   },
   "outputs": [
    {
     "name": "stdout",
     "output_type": "stream",
     "text": [
      "Введите команду :q\n",
      "Ошибка!\n",
      "Введите команду :s\n",
      "Введите номер документа:10006\n",
      "Документ хранится на полке:  2\n",
      "Введите команду :ad\n",
      "Ошибка!\n",
      "Введите команду :as\n",
      "Введите номер полки:1\n",
      "Такая полка уже существует. Текущий перечень полок:  1,2,3\n",
      "Введите команду :as\n",
      "Введите номер полки:4\n",
      "Полка добавлена. Текущий перечень полок:  1,2,3,4\n"
     ]
    }
   ],
   "source": [
    "def main():\n",
    "    \"\"\"\n",
    "    # - p\" может узнать владельца документа по его номеру\n",
    "    # - \"s\" может по номеру документа узнать на какой полке он хранится\n",
    "    # - \"l\" может увидеть полную информацию по всем документам\n",
    "    # - \"as\" может добавить новую полку\n",
    "    # - \"ds\" может удалить существующую полку из данных (только если она пустая)\n",
    "    \"\"\"\n",
    "while True:\n",
    "    user_input_ = input('Введите команду :')\n",
    "    if user_input_ == 'p':\n",
    "        find_document()\n",
    "    elif user_input_ == 's':\n",
    "        find_directory()\n",
    "    elif user_input_ == 'l':\n",
    "        find_doc_info()\n",
    "    elif user_input_ == 'as':\n",
    "        add_directory()\n",
    "    elif user_input_ == 'ds':\n",
    "        delete_directory() \n",
    "        break\n",
    "    else:\n",
    "        print('Ошибка!')"
   ]
  },
  {
   "cell_type": "code",
   "execution_count": 69,
   "metadata": {},
   "outputs": [
    {
     "name": "stdout",
     "output_type": "stream",
     "text": [
      "1 \n",
      "2 3 \n",
      "4 5 6 \n",
      "7 8 9 10 \n",
      "11 12 13 14 15 \n",
      "16 17 18 19 20 21 \n",
      "22 23 24 25 26 27 28 \n",
      "29 30 31 32 33 34 35 36 \n"
     ]
    }
   ],
   "source": [
    "x = 1\n",
    "for i in range(8):\n",
    "    for j in range(i + 1):\n",
    "        print(x, end=' ')\n",
    "        x += 1\n",
    "    print()\n",
    "    "
   ]
  }
 ],
 "metadata": {
  "kernelspec": {
   "display_name": "Python 3",
   "language": "python",
   "name": "python3"
  },
  "language_info": {
   "codemirror_mode": {
    "name": "ipython",
    "version": 3
   },
   "file_extension": ".py",
   "mimetype": "text/x-python",
   "name": "python",
   "nbconvert_exporter": "python",
   "pygments_lexer": "ipython3",
   "version": "3.8.3"
  }
 },
 "nbformat": 4,
 "nbformat_minor": 4
}
