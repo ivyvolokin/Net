{
 "cells": [
  {
   "cell_type": "code",
   "execution_count": null,
   "metadata": {},
   "outputs": [],
   "source": [
    "purchases = {}\n",
    "with open('purchase_log.txt', encoding='utf-8') as f:\n",
    "    f.readline()\n",
    "    for line in f:\n",
    "        \n",
    "        line = line.strip('\"\"').split()\n",
    "         \n",
    "        line = (line[1] + line[3]).strip('\"}\"\"').split(',')\n",
    " #       print(line)\n",
    "\n",
    "        purchases[line[0]] = line[1]"
   ]
  },
  {
   "cell_type": "code",
   "execution_count": 2,
   "metadata": {},
   "outputs": [],
   "source": [
    "import json \n",
    "\n",
    "purchases = {}\n",
    "with open('purchase_log.txt', encoding='utf-8') as f:\n",
    "    \n",
    "        f.readline()\n",
    "        \n",
    "        for line in f:\n",
    "            dict_ = json.loads(line.strip())\n",
    "            purchases[dict_['user_id']] = dict_['category']\n"
   ]
  },
  {
   "cell_type": "code",
   "execution_count": null,
   "metadata": {},
   "outputs": [],
   "source": [
    "with open('visit_log.csv', encoding = 'utf-8') as f2:\n",
    "    with open('funnel.csv', 'w') as f3write:\n",
    "        \n",
    "        f.readline()\n",
    "        \n",
    "        for line in f2:\n",
    "            line = line.strip().split(',')"
   ]
  }
 ],
 "metadata": {
  "kernelspec": {
   "display_name": "Python 3",
   "language": "python",
   "name": "python3"
  },
  "language_info": {
   "codemirror_mode": {
    "name": "ipython",
    "version": 3
   },
   "file_extension": ".py",
   "mimetype": "text/x-python",
   "name": "python",
   "nbconvert_exporter": "python",
   "pygments_lexer": "ipython3",
   "version": "3.8.3"
  }
 },
 "nbformat": 4,
 "nbformat_minor": 4
}
