{
 "cells": [
  {
   "cell_type": "code",
   "execution_count": null,
   "metadata": {},
   "outputs": [],
   "source": [
    "# Задание 1\n",
    "# Печатные газеты использовали свой формат дат для каждого выпуска. \n",
    "# Для каждой газеты из списка напишите формат указанной даты для перевода в объект datetime:\n",
    "# The Moscow Times - Wednesday, October 2, 2002\n",
    "# The Guardian - Friday, 11.10.13\n",
    "# Daily News - Thursday, 18 August 1977\n",
    "\n",
    "The Moscow Times - '%A, %B %d, %Y'\n",
    "The Guardian - '%A, %d.%m.%y'\n",
    "Daily News - '%A, %d %B %Y'"
   ]
  },
  {
   "cell_type": "code",
   "execution_count": 7,
   "metadata": {},
   "outputs": [
    {
     "name": "stdout",
     "output_type": "stream",
     "text": [
      " 2018-04-02 is True\n",
      " 2018-02-29 is False\n",
      " 2018-19-02 is False\n",
      "None\n"
     ]
    }
   ],
   "source": [
    "# Задание 2\n",
    "# Дан поток дат в формате YYYY-MM-DD, в которых встречаются некорректные значения:\n",
    "\n",
    "from datetime import datetime\n",
    "stream = ['2018-04-02', '2018-02-29', '2018-19-02']\n",
    "\n",
    "def correct(x):\n",
    "    for items in x:\n",
    "        try:\n",
    "            datetime.strptime( items, '%Y-%m-%d')\n",
    "            print(f' {items} is {True}')\n",
    "        except:\n",
    "            print(f' {items} is {False}')\n",
    "        \n",
    "print(correct(stream))\n",
    "\n",
    "# Напишите функцию, которая проверяет эти даты на корректность. \n",
    "# Т. е. для каждой даты возвращает True (дата корректна) или False (некорректная дата).\n"
   ]
  },
  {
   "cell_type": "code",
   "execution_count": 60,
   "metadata": {},
   "outputs": [
    {
     "name": "stdout",
     "output_type": "stream",
     "text": [
      "input YYYY-MM-DD 1994-10-10\n",
      "input YYYY-MM-DD 1994-10-16\n",
      "1994-10-10\n",
      "1994-10-11\n",
      "1994-10-12\n",
      "1994-10-13\n",
      "1994-10-14\n",
      "1994-10-15\n",
      "1994-10-16\n",
      "None\n"
     ]
    }
   ],
   "source": [
    "# Задание 3\n",
    "# Напишите функцию date_range, которая возвращает список дат за период от start_date до end_date. \n",
    "# Даты должны вводиться в формате YYYY-MM-DD. \n",
    "# В случае неверного формата или при start_date > end_date должен возвращаться пустой список.\n",
    "from datetime import datetime\n",
    "from datetime import timedelta\n",
    "\n",
    "d1 = input('input YYYY-MM-DD ')\n",
    "d2 = input('input YYYY-MM-DD ')\n",
    "\n",
    "def date_range(start_date, end_date):\n",
    "\n",
    "    start_date = datetime.strptime(d1, '%Y-%m-%d')\n",
    "    end_date = datetime.strptime(d2, '%Y-%m-%d')\n",
    "    \n",
    "    if start_date < end_date:\n",
    "        while end_date >= start_date:\n",
    "                print(start_date.strftime('%Y-%m-%d'))     \n",
    "                start_date += timedelta(days=1)\n",
    "            \n",
    "    else:\n",
    "        return False\n",
    "\n",
    "print(date_range(d1, d2))"
   ]
  },
  {
   "cell_type": "code",
   "execution_count": 59,
   "metadata": {},
   "outputs": [
    {
     "name": "stdout",
     "output_type": "stream",
     "text": [
      "input YYYY-MM-DD 1994-10-10\n",
      "input YYYY-MM-DD 1994-10-15\n",
      "['1994-10-10', '1994-10-11', '1994-10-12', '1994-10-13', '1994-10-14', '1994-10-15']\n"
     ]
    }
   ],
   "source": [
    "#Ещё один вариант 3го задания\n",
    "from datetime import datetime\n",
    "from datetime import timedelta\n",
    "\n",
    "d1 = input('input YYYY-MM-DD ')\n",
    "d2 = input('input YYYY-MM-DD ')\n",
    "days = []\n",
    "def date_range(start_date, end_date):\n",
    "\n",
    "\n",
    "    if start_date < end_date:\n",
    "        try:\n",
    "            start_date = datetime.strptime(d1, '%Y-%m-%d')\n",
    "            end_date = datetime.strptime(d2, '%Y-%m-%d')\n",
    "            while end_date >= start_date:\n",
    "                days.append(start_date.strftime('%Y-%m-%d'))     \n",
    "                start_date += timedelta(days=1)\n",
    "            return(days)\n",
    "        except:\n",
    "            for items in days:\n",
    "                print(items)\n",
    "    else:\n",
    "        return False\n",
    "\n",
    "print(date_range(d1, d2))"
   ]
  },
  {
   "cell_type": "code",
   "execution_count": null,
   "metadata": {},
   "outputs": [],
   "source": [
    "# Задание 4 (бонусное)\n",
    "# Ваш коллега прислал код функции:\n",
    "\n",
    "DEFAULT_USER_COUNT = 3\n",
    "\n",
    "def delete_and_return_last_user(region, default_list=['A100', 'A101', 'A102']):\n",
    "\n",
    "# Удаляет из списка default_list последнего пользователя\n",
    "# и возвращает ID нового последнего пользователя.\n",
    "\n",
    "element_to_delete = default_list[-1]\n",
    "default_list.remove(element_to_delete)\n",
    "\n",
    "# 1\n",
    "return default_list[DEFAULT_USER_COUNT-2]\n",
    "# При однократном вызове этой функции все работает корректно:\n",
    "delete_and_return_last_user(1)\n",
    "'A101'\n",
    "\n",
    "# Однако, при повторном вызове получается ошибка IndexError: list index out of range.\n",
    "\n",
    "# Задание:\n",
    "\n",
    "# Что значит ошибка list index out of range?\n",
    "# Почему при первом запуске функция работает корректно, а при втором - нет?\n",
    "\n",
    "#ANSWER: list index out of range = дословно переводится как индекс списка вне диапазона. Значит что мы пытаемся обратиться\n",
    "# к элементу, который за пределами нашего списка, как если бы я хотел отобразить элемент которого нет в нашем варинате.\n",
    "# пример только со сторочкой (string) чуть ниже. А случается эта ошибка потому, что при повтороном вызове программы\n",
    "# удаляется 2ой элемент и наш список состоит всего из одного элемента, а пытаемся мы вызвать [-2]\n"
   ]
  },
  {
   "cell_type": "code",
   "execution_count": 65,
   "metadata": {},
   "outputs": [
    {
     "ename": "IndexError",
     "evalue": "string index out of range",
     "output_type": "error",
     "traceback": [
      "\u001b[1;31m---------------------------------------------------------------------------\u001b[0m",
      "\u001b[1;31mIndexError\u001b[0m                                Traceback (most recent call last)",
      "\u001b[1;32m<ipython-input-65-1c713ac1be8a>\u001b[0m in \u001b[0;36m<module>\u001b[1;34m\u001b[0m\n\u001b[0;32m      1\u001b[0m \u001b[0mname\u001b[0m \u001b[1;33m=\u001b[0m \u001b[1;34m'слово'\u001b[0m\u001b[1;33m\u001b[0m\u001b[1;33m\u001b[0m\u001b[0m\n\u001b[1;32m----> 2\u001b[1;33m \u001b[0mprint\u001b[0m\u001b[1;33m(\u001b[0m\u001b[0mname\u001b[0m\u001b[1;33m[\u001b[0m\u001b[1;36m6\u001b[0m\u001b[1;33m]\u001b[0m\u001b[1;33m)\u001b[0m\u001b[1;33m\u001b[0m\u001b[1;33m\u001b[0m\u001b[0m\n\u001b[0m",
      "\u001b[1;31mIndexError\u001b[0m: string index out of range"
     ]
    }
   ],
   "source": [
    "name = 'слово'\n",
    "print(name[6])"
   ]
  }
 ],
 "metadata": {
  "kernelspec": {
   "display_name": "Python 3",
   "language": "python",
   "name": "python3"
  },
  "language_info": {
   "codemirror_mode": {
    "name": "ipython",
    "version": 3
   },
   "file_extension": ".py",
   "mimetype": "text/x-python",
   "name": "python",
   "nbconvert_exporter": "python",
   "pygments_lexer": "ipython3",
   "version": "3.8.3"
  }
 },
 "nbformat": 4,
 "nbformat_minor": 4
}
