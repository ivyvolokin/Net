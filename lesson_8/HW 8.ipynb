{
 "cells": [
  {
   "cell_type": "markdown",
   "metadata": {},
   "source": []
  },
  {
   "cell_type": "markdown",
   "metadata": {},
   "source": [
    "Задание 1\n",
    "Напишите функцию, которая возвращает название валюты (поле ‘Name’) с максимальным значением курса\n",
    "с помощью сервиса https://www.cbr-xml-daily.ru/daily_json.js"
   ]
  },
  {
   "cell_type": "code",
   "execution_count": 202,
   "metadata": {},
   "outputs": [],
   "source": [
    "import requests "
   ]
  },
  {
   "cell_type": "code",
   "execution_count": 203,
   "metadata": {},
   "outputs": [],
   "source": [
    "f = requests.get('https://www.cbr-xml-daily.ru/daily_json.js').json()\n",
    "f = f['Valute']"
   ]
  },
  {
   "cell_type": "code",
   "execution_count": 206,
   "metadata": {},
   "outputs": [
    {
     "name": "stdout",
     "output_type": "stream",
     "text": [
      "Максимальное значение курса у XDR =106.4275\n"
     ]
    }
   ],
   "source": [
    "fin = {}\n",
    "max_ = 0\n",
    "name = []\n",
    "for valute, valute_data in f.items():\n",
    "#     print(valute_data['Value'] / valute_data['Nominal'])\n",
    "    fin[valute] = valute_data['Value'] / valute_data['Nominal']\n",
    "\n",
    "for key, value in fin.items():\n",
    "    if value >= max_:\n",
    "        max_ = value\n",
    "        name = key +' = '+ str(max_)\n",
    "print(\"Максимальное значение курса у\",name)        \n",
    "\n",
    "# Пожалуйста подскажите как ещё можно выполнить данное задание"
   ]
  },
  {
   "cell_type": "markdown",
   "metadata": {},
   "source": [
    "Задание 2 Добавьте в класс Rate параметр diff (со значениями True или False), который в случае значения True в методах курсов валют (eur, usd итд) будет возвращать не курс валюты, а изменение по сравнению в прошлым значением. Считайте, self.diff будет принимать значение True только при возврате значения курса. При отображении всей информации о валюте он не используется."
   ]
  },
  {
   "cell_type": "code",
   "execution_count": 294,
   "metadata": {},
   "outputs": [],
   "source": [
    "import requests \n",
    "\n",
    "class Rate:\n",
    "    def __init__(self, format_='value', diff=True):\n",
    "        self.format = format_\n",
    "        self.diff = diff\n",
    "        \n",
    "    \n",
    "    def exchange_rates(self):\n",
    "        \n",
    "        self.r = requests.get('https://www.cbr-xml-daily.ru/daily_json.js')\n",
    "        return self.r.json()['Valute']\n",
    "    \n",
    "    def make_format(self, currency):\n",
    "        \n",
    "        response = self.exchange_rates()\n",
    "        \n",
    "        if currency in response:\n",
    "            \n",
    "            \n",
    "            if self.format == 'full':\n",
    "                return response[currency]\n",
    "            \n",
    "            if self.format == 'value':\n",
    "                return response[currency]['Value']\n",
    "            \n",
    "            if self.format == True:                  #добавляем проверку на TRUE, в этом случае выводит разницу \n",
    "                return  response[currency]['Value'] - response[currency]['Previous']\n",
    "                       \n",
    "            \n",
    "                \n",
    "            \n",
    "        return 'Error' \n",
    "    \n",
    "\n",
    "\n",
    "            \n",
    "    def eur(self):\n",
    "        return  self.make_format('EUR')\n",
    "        \n",
    "    \n",
    "    def usd(self):\n",
    "        return self.make_format('USD')"
   ]
  },
  {
   "cell_type": "code",
   "execution_count": 297,
   "metadata": {},
   "outputs": [],
   "source": [
    "obj = Rate('full')"
   ]
  },
  {
   "cell_type": "code",
   "execution_count": 298,
   "metadata": {},
   "outputs": [
    {
     "data": {
      "text/plain": [
       "{'ID': 'R01235',\n",
       " 'NumCode': '840',\n",
       " 'CharCode': 'USD',\n",
       " 'Nominal': 1,\n",
       " 'Name': 'Доллар США',\n",
       " 'Value': 73.8526,\n",
       " 'Previous': 74.1192}"
      ]
     },
     "execution_count": 298,
     "metadata": {},
     "output_type": "execute_result"
    }
   ],
   "source": [
    "obj.make_format('USD')"
   ]
  },
  {
   "cell_type": "markdown",
   "metadata": {},
   "source": [
    "Задание 3\n",
    "Напишите класс Designer, который учитывает количество международных премий.\n",
    "Подсказки в коде занятия в разделе “Домашнее задание задача 3”."
   ]
  },
  {
   "cell_type": "markdown",
   "metadata": {},
   "source": [
    "Комментарий по классу Designer такой:\n",
    "Напишите класс Designer, который учитывает количество международных премий для дизайнеров (из презентации: “Повышение на 1 грейд за каждые 7 баллов. Получение международной премии – это +2 балла”). Считайте, что при выходе на работу сотрудник уже имеет две премии и их количество не меняется со стажем (конечно если хотите это можно вручную менять).\n",
    "\n",
    "Класс Designer пишется по аналогии с классом Developer из материалов занятия. Комментарий про его условия Вика написала выше: “Повышение на 1 грейд за каждые 7 баллов. Получение международной премии – это +2 балла”"
   ]
  },
  {
   "cell_type": "code",
   "execution_count": 387,
   "metadata": {},
   "outputs": [],
   "source": [
    "alex1 = Designer('Александр', 0)"
   ]
  },
  {
   "cell_type": "code",
   "execution_count": 381,
   "metadata": {},
   "outputs": [],
   "source": [
    "class Award: \n",
    "    def __init__(self, name, points):\n",
    "        self.name = name\n",
    "        self.awards = 2\n",
    "        self.points = self.awards * 2 #по два балла за награду\n",
    "        self.grade = 1\n",
    "        \n",
    "    def grade_up(self):\n",
    "        \"\"\"Повышает уровень сотрудника\"\"\"\n",
    "        self.grade += 1\n",
    "        print(f'{self.name} колличесвто наград {self.awards}, баллов {self.points} , уровень сотрудника {self.grade} ')\n",
    "    \n",
    "    def publish_grade(self):\n",
    "        \"\"\"Публикация результатов аккредитации сотрудников\"\"\"\n",
    "        print(f'{self.name} колличесвто наград {self.awards}, баллов {self.points} , уровень сотрудника {self.grade} ')"
   ]
  },
  {
   "cell_type": "code",
   "execution_count": 376,
   "metadata": {},
   "outputs": [],
   "source": [
    "class Designer(Award):\n",
    "    def __init__(self, name, points):\n",
    "        super().__init__(name,  points)\n",
    "    \n",
    "    def check_if_it_is_time_for_upgrade(self):\n",
    "        self.points+=1\n",
    "        \n",
    "        if self.points % 7 == 0:\n",
    "            self.grade_up() #повышение уровня сотрудника за каждые 7 баллов\n",
    "            \n",
    "        # публикация результатов\n",
    "        \n",
    "        return self.publish_grade()"
   ]
  },
  {
   "cell_type": "code",
   "execution_count": 389,
   "metadata": {},
   "outputs": [
    {
     "name": "stdout",
     "output_type": "stream",
     "text": [
      "Александр колличесвто наград 2 уровень сотрудника 1 ,баллов 5\n"
     ]
    }
   ],
   "source": [
    "alex1.check_if_it_is_time_for_upgrade()"
   ]
  }
 ],
 "metadata": {
  "kernelspec": {
   "display_name": "Python 3",
   "language": "python",
   "name": "python3"
  },
  "language_info": {
   "codemirror_mode": {
    "name": "ipython",
    "version": 3
   },
   "file_extension": ".py",
   "mimetype": "text/x-python",
   "name": "python",
   "nbconvert_exporter": "python",
   "pygments_lexer": "ipython3",
   "version": "3.8.3"
  }
 },
 "nbformat": 4,
 "nbformat_minor": 4
}
