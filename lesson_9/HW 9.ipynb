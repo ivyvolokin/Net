{
 "cells": [
  {
   "cell_type": "markdown",
   "metadata": {},
   "source": [
    "Внимание! При реализации всех заданий необходимо использовать именно функционал регулярных выражений для обработки текста.\n",
    "\n",
    "Задание 1\n",
    "Напишите функцию, которая принимает на вход строку и проверяет является ли она валидным транспортным номером (1 буква, 3 цифры, 2 буквы, 2-3 цифры). Обратите внимание, что не все буквы кириллического алфавита используются в транспортных номерах.\n",
    "\n",
    "Если номер валиден, то функция должна возвращать отдельно номер и регион.\n",
    "\n",
    "Примеры работы программы:\n",
    "\n",
    "car_id = 'A222BC96'\n",
    "Результат: Номер A222BС валиден. Регион: 96\n",
    "\n",
    "car_id = 'АБ22ВВ193'\n",
    "Результат: Номер не валиден"
   ]
  },
  {
   "cell_type": "code",
   "execution_count": 40,
   "metadata": {},
   "outputs": [
    {
     "name": "stdout",
     "output_type": "stream",
     "text": [
      "Введте номер : А000АА12\n",
      "Номер не валиден\n"
     ]
    }
   ],
   "source": [
    "import re\n",
    "car_id = input('Введите номер : ')\n",
    "\n",
    "\n",
    "def check_ID(registration):\n",
    "    \n",
    "    baza = [] #добавить проверку на нахождение номера в базе и при совпадении выводить 'номер уже зарегестрирован'\n",
    "    region = [] #можно добавить список всех регионов РФ и выполнить проверку на вхождение регионов этот список \n",
    "    #вместо registration[-2::] != '00'\n",
    "    \n",
    "    check_ = r'([АВЕКМНОРСТУХавекмнорстух]{1}\\d{3}[АВЕКМНОРСТУХавекмнорстух]{2})(\\d{2,3})'\n",
    "    \n",
    "    if registration[1:4] != '000' :   #проверка на номер 000 и на наличие их уже в РФ \n",
    "        \n",
    "         if len(registration) == 8 and registration[-2::] != '00': #для номеров с регионом из 2х цифр\n",
    "            \n",
    "            if check_:\n",
    "                check_result = re.search(check_ , registration)\n",
    "                \n",
    "                if check_result is None:\n",
    "                    print('Номер не валиден')\n",
    "                    \n",
    "                else:\n",
    "                    \n",
    "                    print(f'Номер {registration} валиден. Регион: {registration[-2::]}')\n",
    "        \n",
    "         if len(registration) == 9 and registration[-3::] != '000':  #для номеров с регионом из 3х цифр\n",
    "            \n",
    "            if check_:\n",
    "                check_result = re.search(check_ , registration)\n",
    "                \n",
    "                if check_result is None:\n",
    "                    print('Номер не валиден')\n",
    "                    \n",
    "                else:\n",
    "                    \n",
    "                    print(f'Номер {registration} валиден. Регион: {registration[-3::]}')\n",
    "            \n",
    "            else:\n",
    "                print('Номер не валиден')\n",
    "    \n",
    "    else:\n",
    "        print('Номер не валиден')\n",
    "        \n",
    "    \n",
    "check_ID(car_id)\n",
    "\n",
    "\n"
   ]
  },
  {
   "cell_type": "markdown",
   "metadata": {},
   "source": [
    "Задание 2\n",
    "Напишите функцию, которая будет удалять все последовательные повторы слов из заданной строки при помощи регулярных выражений.\n",
    "\n",
    "Пример работы программы:\n",
    "\n",
    "some_string = 'Напишите функцию функцию, которая будет будет будет будет удалять все все все все последовательные повторы слов из из из из заданной строки строки при помощи регулярных выражений.'\n",
    "\n",
    "Результат:\n",
    "Напишите функцию, которая будет удалять все последовательные повторы слов из заданной строки при помощи регулярных выражений."
   ]
  },
  {
   "cell_type": "code",
   "execution_count": 64,
   "metadata": {},
   "outputs": [
    {
     "name": "stdout",
     "output_type": "stream",
     "text": [
      "Введите текст Напишите функцию функцию, которая будет будет будет будет удалять все все все все последовательные повторы слов из из из из заданной строки строки при помощи регулярных выражений.\n"
     ]
    },
    {
     "data": {
      "text/plain": [
       "'Напишите функцию, которая будет удалять все последовательные повторы слов из заданной строки при помощи регулярных выражений.'"
      ]
     },
     "execution_count": 64,
     "metadata": {},
     "output_type": "execute_result"
    }
   ],
   "source": [
    "some_str = input('Введите текст ') \n",
    "\n",
    "def delete_(some_str):       #re.sub(pattern, repl, string, count=0)\n",
    "    result = re.sub(r'(\\b\\w+\\b)(\\s+\\1)+', r'\\1' ,some_str)\n",
    "    return result\n",
    "    \n",
    "delete_(some_str)    "
   ]
  },
  {
   "cell_type": "markdown",
   "metadata": {},
   "source": [
    "Задание 3\n",
    "Напишите функцию, которая будет возвращать акроним по переданной в нее строке со словами.\n",
    "\n",
    "Примеры работы программы:\n",
    "\n",
    "some_words = 'Информационные технологии'\n",
    "\n",
    "Результат: ИТ\n",
    "\n",
    "some_words = 'Near Field Communication'\n",
    "Результат: NFC"
   ]
  },
  {
   "cell_type": "code",
   "execution_count": 59,
   "metadata": {},
   "outputs": [
    {
     "name": "stdout",
     "output_type": "stream",
     "text": [
      "Введите строку 'Near Field Communication\n"
     ]
    },
    {
     "data": {
      "text/plain": [
       "'NFC'"
      ]
     },
     "execution_count": 59,
     "metadata": {},
     "output_type": "execute_result"
    }
   ],
   "source": [
    "import re\n",
    "some_words = input('Введите строку ')\n",
    "\n",
    "def acronym(some_words):\n",
    "    \n",
    "    result = ''.join(re.findall(r'(\\b[а-яёa-z])',some_words, re.IGNORECASE))\n",
    "    return result.upper()\n",
    "    \n",
    "    \n",
    "acronym(some_words)    "
   ]
  },
  {
   "cell_type": "markdown",
   "metadata": {},
   "source": [
    "Задание 4¶\n",
    "Напишите функцию, которая будет принимать на вход список email-адресов и выводить их распределение по доменным зонам.\n",
    "\n",
    "Пример работы программы:\n",
    "\n",
    "emails = ['test@gmail.com', 'xyz@test.in', 'test@ya.ru', 'xyz@mail.ru', 'xyz@ya.ru', 'xyz@gmail.com']\n",
    "\n",
    "Результат:\n",
    "\n",
    "gmail.com: 2\n",
    "test.in: 1 \n",
    "ya.ru: 2 \n",
    "mail.ru: 1"
   ]
  },
  {
   "cell_type": "code",
   "execution_count": 71,
   "metadata": {},
   "outputs": [
    {
     "name": "stdout",
     "output_type": "stream",
     "text": [
      "{'gmail.com': 2, 'test.in': 1, 'ya.ru': 2, 'mail.ru': 1}\n"
     ]
    }
   ],
   "source": [
    "emails = ['test@gmail.com', 'xyz@test.in', 'test@ya.ru', 'xyz@mail.ru', 'xyz@ya.ru', 'xyz@gmail.com']\n",
    "result = {}\n",
    "for mail in emails:\n",
    "    \n",
    "    if re.split(r'\\@',mail)[1] not in result:\n",
    "        \n",
    "        result[re.split(r'\\@',mail)[1]] = 1\n",
    "    \n",
    "    else:\n",
    "        \n",
    "        result[re.split(r'\\@',mail)[1]] += 1\n",
    "        \n",
    "print(result)"
   ]
  },
  {
   "cell_type": "markdown",
   "metadata": {},
   "source": [
    "Задание 5 (необязательное)¶\n",
    "Напишите функцию, которая будет подсчитывать сколько слов начинается на гласные, а сколько на согласные буквы в тексте (текст может быть написан как с использованием букв кириллицы, так и латиницы).\n",
    "\n",
    "Пример работы программы:\n",
    "\n",
    "some_text = 'Эталонной реализацией Python является интерпретатор CPython, поддерживающий большинство активно используемых платформ. Он распространяется под свободной лицензией Python Software Foundation License, позволяющей использовать его без ограничений в любых приложениях, включая проприетарные.'\n",
    "\n",
    "Результат:\n",
    "\n",
    "Слов на гласные буквы: 9\n",
    "Слов на согласные буквы: 21"
   ]
  },
  {
   "cell_type": "code",
   "execution_count": 57,
   "metadata": {},
   "outputs": [
    {
     "name": "stdout",
     "output_type": "stream",
     "text": [
      "Введите текст Эталонной реализацией Python является интерпретатор CPython, поддерживающий большинство активно используемых платформ. Он распространяется под свободной лицензией Python Software Foundation License, позволяющей использовать его без ограничений в любых приложениях, включая проприетарные\n"
     ]
    },
    {
     "data": {
      "text/plain": [
       "'Слов на гласные буквы: 9 Слов на согласные буквы: 21'"
      ]
     },
     "execution_count": 57,
     "metadata": {},
     "output_type": "execute_result"
    }
   ],
   "source": [
    "some_text = input('Введите текст ')\n",
    "\n",
    "def count_(some_text):\n",
    "    glas = re.findall(r'\\b[аеёиоуыэюяaeiou]\\S+\\b', some_text, re.IGNORECASE)\n",
    "    sogl = re.findall(r'\\b[бвгджзйклмнпрстфхцчшщbcdfghjklmnpqrstvwxyz]\\S*\\b', some_text, re.IGNORECASE)\n",
    "    \n",
    "    return(f'Слов на гласные буквы: {len(glas)} Слов на согласные буквы: {len(sogl)}')\n",
    "\n",
    "    \n",
    "count_(some_text)    "
   ]
  },
  {
   "cell_type": "markdown",
   "metadata": {},
   "source": [
    "Задание 6 (необязательное)\n",
    "Напишите функцию, которая будет проверять номер сотового телефона на валидность (только для российского формата), если он валиден, то переводить его в формат:\n",
    "+7-xxx-xxx-xx-xx\n",
    "Постарайтесь предусмотреть как можно больше адекватных форматов изначального ввода номера. Примеры работы программы:\n",
    "\n",
    "phone = '+7 955 555-55-55'\n",
    "Результат: +7-950-555-55-55\n",
    "\n",
    "phone = '8(955)555-55-55'\n",
    "Результат: +7-950-555-55-55\n",
    "\n",
    "phone = '+7 955 555 55 55'\n",
    "Результат: +7-950-555-55-55\n",
    "\n",
    "phone = '7(955) 555-55-55'\n",
    "Результат: +7-950-555-55-55\n",
    "\n",
    "phone = '423-555-55-5555'\n",
    "Результат: Номер не валиден\n",
    "\n",
    "phone = '123-456-789'\n",
    "Результат: Номер не валиден\n",
    "\n",
    "\n",
    "Сформулируйте вопрос по алгоритму:\n",
    "1) Что я делаю?\n",
    "2) Какого результата я ожидаю?\n",
    "3) Как фактический результат отличается от ожидаемого?\n",
    "4) Что я уже попробовал сделать, чтобы исправить проблему?"
   ]
  },
  {
   "cell_type": "code",
   "execution_count": null,
   "metadata": {},
   "outputs": [],
   "source": [
    "phone = input('Введите номер ')\n",
    "\n",
    "def valid_number(phone):\n",
    "    \n",
    "    \n",
    "    if  :\n",
    "    \n",
    "    else:\n",
    "        return 'Номер не валиден'\n",
    "        \n",
    "    \n",
    "valid_number(phone)    "
   ]
  }
 ],
 "metadata": {
  "kernelspec": {
   "display_name": "Python 3",
   "language": "python",
   "name": "python3"
  },
  "language_info": {
   "codemirror_mode": {
    "name": "ipython",
    "version": 3
   },
   "file_extension": ".py",
   "mimetype": "text/x-python",
   "name": "python",
   "nbconvert_exporter": "python",
   "pygments_lexer": "ipython3",
   "version": "3.8.3"
  }
 },
 "nbformat": 4,
 "nbformat_minor": 4
}
