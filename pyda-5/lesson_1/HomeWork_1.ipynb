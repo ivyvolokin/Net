{
 "cells": [
  {
   "cell_type": "code",
   "execution_count": 5,
   "metadata": {},
   "outputs": [
    {
     "name": "stdout",
     "output_type": "stream",
     "text": [
      "Введите Фразу 1ффффф\n",
      "Введите Фразу 2вв\n",
      "Фраза 1 длиннее Фразы 2\n"
     ]
    }
   ],
   "source": [
    "#Задание 1\n",
    "phrase_1 = str(input('Введите Фразу 1'))\n",
    "phrase_2 = str(input('Введите Фразу 2'))\n",
    "if len(phrase_1) > len(phrase_2):\n",
    "        print('Фраза 1 длиннее Фразы 2')\n",
    "elif len(phrase_1) < len(phrase_2):\n",
    "        print('Фраза 2 длиннее Фразы 1')\n",
    "else:\n",
    "        print('Фразы равной длины')\n",
    "        \n",
    "       "
   ]
  },
  {
   "cell_type": "code",
   "execution_count": 14,
   "metadata": {},
   "outputs": [
    {
     "name": "stdout",
     "output_type": "stream",
     "text": [
      "Введите год1999\n",
      "Обычный год\n"
     ]
    }
   ],
   "source": [
    "#Задание 2\n",
    "year = int(input('Введите год'))\n",
    "if (year % 4 == 0 ) and (year % 100 != 0) or (year % 400 ==0) :\n",
    "    print('Високосный год')\n",
    "else:\n",
    "    print('Обычный год')"
   ]
  },
  {
   "cell_type": "code",
   "execution_count": 2,
   "metadata": {},
   "outputs": [
    {
     "name": "stdout",
     "output_type": "stream",
     "text": [
      "Введите день31\n",
      "Введите месяц10\n",
      "Скорпион\n"
     ]
    }
   ],
   "source": [
    "#Задание 3\n",
    "day = int(input('Введите день'))\n",
    "month = int(input('Введите месяц'))\n",
    "if(31>= day >= 20 and month ==1) or (day <= 18 and month == 2):\n",
    "    print('Водолей')\n",
    "elif(29>= day >= 19 and month ==2) or (day <= 20 and month == 3):\n",
    "    print('Рыбы')\n",
    "elif(31>= day >= 21 and month ==3) or (day <= 19 and month == 4):\n",
    "    print('Овен')\n",
    "elif(30>= day >= 20 and month ==4) or (day <= 20 and month == 5):\n",
    "    print('Телец')\n",
    "elif(31>= day >= 21 and month ==5) or (day <= 20 and month == 6):\n",
    "    print('Близнецы')\n",
    "elif(30>= day >= 21 and month ==6) or (day <= 22 and month == 7):\n",
    "    print('Рак')\n",
    "elif(31>= day >= 23 and month ==7) or (day <= 22 and month == 8):\n",
    "    print('Лев')\n",
    "elif(31>= day >= 23 and month ==8) or (day <= 22 and month == 9):\n",
    "    print('Дева')\n",
    "elif(30>= day >= 23 and month ==9) or (day <= 22 and month == 10):\n",
    "    print('Весы')\n",
    "elif(31>= day >= 23 and month ==10) or (day <= 21 and month == 11):\n",
    "    print('Скорпион')\n",
    "elif(30>= day >= 22 and month ==11) or (day <= 21 and month == 12):\n",
    "    print('Стрелец')\n",
    "elif(31>= day >= 22 and month ==12) or (day <= 19 and month == 1):\n",
    "    print('Козерог')\n",
    "else:\n",
    "    print('Ошибка Ввода')"
   ]
  },
  {
   "cell_type": "code",
   "execution_count": 9,
   "metadata": {},
   "outputs": [
    {
     "name": "stdout",
     "output_type": "stream",
     "text": [
      "Введите ширину23\n",
      "Введите длину230\n",
      "Введите высоту24\n",
      "Упаковка для лыж\n"
     ]
    }
   ],
   "source": [
    "#Задание 4\n",
    "width = int(input('Введите ширину в см'))\n",
    "length = int(input('Введите длину в см'))\n",
    "height = int(input('Введите высотув см'))\n",
    "if(width <15 ) and ( length <15) and ( height <15):\n",
    "    print ('Коробка №1')\n",
    "elif((width <50 ) and (length <50) and (height <50)):\n",
    "    print ('Коробка №2')\n",
    "elif(length >200):\n",
    "    print ('Упаковка для лыж') \n",
    "else:\n",
    "    print ('Стандартная коробка №3')    \n",
    "    \n"
   ]
  },
  {
   "cell_type": "code",
   "execution_count": null,
   "metadata": {},
   "outputs": [],
   "source": [
    "#Задание 5\n",
    "\n",
    "a = str(input('Введите номер билета'))\n",
    "sum1=int(a[0]) + int(a[1] )+ int(a[2])\n",
    "sum2=int(a[3]) + int(a[4]) + int(a[5])\n",
    "if sum1==sum2:\n",
    "     print('Счастливый')\n",
    "else:\n",
    "     print('Обычный')\n",
    "\n",
    "\n"
   ]
  },
  {
   "cell_type": "code",
   "execution_count": 13,
   "metadata": {},
   "outputs": [
    {
     "name": "stdout",
     "output_type": "stream",
     "text": [
      "введите фигурупрямоугольник\n",
      "введите сторону 1 - 4\n",
      "введите сторону 2 - 5\n",
      "20.0\n"
     ]
    }
   ],
   "source": [
    "#Задание 6 \n",
    "\n",
    "a = input('введите фигуру')\n",
    "if a ==('круг'):\n",
    "    r = float(input('введите радиус -'))\n",
    "    print (r**2*3.141592653589793)\n",
    "if a==('треугольник'):\n",
    "    x = float(input('введите сторону 1 - '))\n",
    "    y = float(input('введите сторону 2 -'))\n",
    "    z = float(input('введите сторону 3 -'))\n",
    "    p = (x + y + z) / 2\n",
    "    from math import sqrt\n",
    "    s = sqrt(p * (p - x) * (p - y) * (p - z))\n",
    "    print( s)\n",
    "if a==('прямоугольник'):\n",
    "    n = float(input('введите сторону 1 - '))\n",
    "    m = float(input('введите сторону 2 - '))\n",
    "    print (n*m)"
   ]
  }
 ],
 "metadata": {
  "kernelspec": {
   "display_name": "Python 3",
   "language": "python",
   "name": "python3"
  },
  "language_info": {
   "codemirror_mode": {
    "name": "ipython",
    "version": 3
   },
   "file_extension": ".py",
   "mimetype": "text/x-python",
   "name": "python",
   "nbconvert_exporter": "python",
   "pygments_lexer": "ipython3",
   "version": "3.8.3"
  }
 },
 "nbformat": 4,
 "nbformat_minor": 4
}
